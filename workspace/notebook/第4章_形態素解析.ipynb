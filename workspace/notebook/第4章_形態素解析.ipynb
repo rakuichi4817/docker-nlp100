{
 "cells": [
  {
   "cell_type": "markdown",
   "metadata": {
    "id": "fNBDDZLVI7gX"
   },
   "source": [
    "# 第4章: 形態素解析\n",
    "\n",
    "> 夏目漱石の小説『吾輩は猫である』の文章（neko.txt）をMeCabを使って形態素解析し，その結果をneko.txt.mecabというファイルに保存せよ．  \n",
    "> このファイルを用いて，以下の問に対応するプログラムを実装せよ．\n",
    "> \n",
    "> なお，問題37, 38, 39は[matplotlib](https://matplotlib.org/)もしくは[Gnuplot](http://www.gnuplot.info/)を用いるとよい．\n",
    "\n",
    "\n",
    "解答はQiitaの[【言語処理100本ノック 2020】第4章: 形態素解析](https://qiita.com/yamaru/items/e06014b146a18e97ca59)を利用"
   ]
  },
  {
   "cell_type": "code",
   "execution_count": null,
   "metadata": {},
   "outputs": [],
   "source": [
    "import os\n",
    "import math\n",
    "from collections import defaultdict \n",
    "\n",
    "import matplotlib.pyplot as plt\n",
    "import japanize_matplotlib"
   ]
  },
  {
   "cell_type": "code",
   "execution_count": null,
   "metadata": {},
   "outputs": [],
   "source": [
    "# データを保存するディレクトリの作成\n",
    "DATADIR = \"data\"\n",
    "CURRENTDIR = \"/workspace/notebook\"\n",
    "CHAPDIR = os.path.join(DATADIR, \"chapter4\")\n",
    "\n",
    "try:\n",
    "    os.mkdir(CHAPDIR)\n",
    "except:\n",
    "    print(\"作成済み等の理由でディレクトリが作成されませんでした\")"
   ]
  },
  {
   "cell_type": "code",
   "execution_count": null,
   "metadata": {},
   "outputs": [],
   "source": [
    "# neko.txtの取得\n",
    "!wget -P $CURRENTDIR/$CHAPDIR \"https://nlp100.github.io/data/neko.txt\""
   ]
  },
  {
   "cell_type": "code",
   "execution_count": null,
   "metadata": {
    "id": "b-4jCO7ZKx_h"
   },
   "outputs": [],
   "source": [
    "# ダウンロードしたテキストデータをMeCabで形態素に分解し、拡張子が「.mecab」のファイルとして出力する。\n",
    "!mecab -o $CURRENTDIR/$CHAPDIR/neko.txt.mecab $CURRENTDIR/$CHAPDIR/neko.txt"
   ]
  },
  {
   "cell_type": "code",
   "execution_count": null,
   "metadata": {
    "colab": {
     "base_uri": "https://localhost:8080/"
    },
    "executionInfo": {
     "elapsed": 51957,
     "status": "ok",
     "timestamp": 1620347122588,
     "user": {
      "displayName": "高林悠樹",
      "photoUrl": "https://lh3.googleusercontent.com/a-/AOh14GhCT3HznyNl5OwIwNHCob2mBflR2igHLN9p_x4G=s64",
      "userId": "16985431577640014557"
     },
     "user_tz": -540
    },
    "id": "GqbZf4p8LKLD",
    "outputId": "1b50920a-be25-4d1e-90f8-26ff6ac91761"
   },
   "outputs": [],
   "source": [
    "!wc -l $CURRENTDIR/$CHAPDIR/neko.txt.mecab"
   ]
  },
  {
   "cell_type": "code",
   "execution_count": null,
   "metadata": {
    "colab": {
     "base_uri": "https://localhost:8080/"
    },
    "executionInfo": {
     "elapsed": 52918,
     "status": "ok",
     "timestamp": 1620347123567,
     "user": {
      "displayName": "高林悠樹",
      "photoUrl": "https://lh3.googleusercontent.com/a-/AOh14GhCT3HznyNl5OwIwNHCob2mBflR2igHLN9p_x4G=s64",
      "userId": "16985431577640014557"
     },
     "user_tz": -540
    },
    "id": "7bu5yHsYLPT7",
    "outputId": "0deb943a-f4c1-4b57-8b0f-c8dea8b72d71",
    "scrolled": true,
    "tags": []
   },
   "outputs": [],
   "source": [
    "!head -50 $CURRENTDIR/$CHAPDIR/neko.txt.mecab"
   ]
  },
  {
   "cell_type": "code",
   "execution_count": null,
   "metadata": {},
   "outputs": [],
   "source": [
    "filename = \"neko.txt.mecab\"\n",
    "in_fpath = os.path.join(CHAPDIR, filename)"
   ]
  },
  {
   "cell_type": "markdown",
   "metadata": {
    "id": "yaWs9LDVKIPp"
   },
   "source": [
    "## 30. 形態素解析結果の読み込み\n",
    "\n",
    "> 形態素解析結果（neko.txt.mecab）を読み込むプログラムを実装せよ．ただし，各形態素は表層形（surface），基本形（base），品詞（pos），品詞細分類1（pos1）をキーとするマッピング型に格納し，1文を形態素（マッピング型）のリストとして表現せよ．第4章の残りの問題では，ここで作ったプログラムを活用せよ．"
   ]
  },
  {
   "cell_type": "code",
   "execution_count": null,
   "metadata": {
    "colab": {
     "base_uri": "https://localhost:8080/"
    },
    "executionInfo": {
     "elapsed": 53058,
     "status": "ok",
     "timestamp": 1620347123737,
     "user": {
      "displayName": "高林悠樹",
      "photoUrl": "https://lh3.googleusercontent.com/a-/AOh14GhCT3HznyNl5OwIwNHCob2mBflR2igHLN9p_x4G=s64",
      "userId": "16985431577640014557"
     },
     "user_tz": -540
    },
    "id": "gjWIPu2wNbPo",
    "outputId": "20b9f513-ca1f-45b7-a530-48abe07e011e"
   },
   "outputs": [],
   "source": [
    "sentences = []\n",
    "morphs = []\n",
    "with open(in_fpath, mode=\"r\") as f:\n",
    "    for line in f:\n",
    "        if line != \"EOS\\n\": # 1文の終わりを判定する条件(今回は1文ごとに形態素情報(辞書型)を1つのリストにまとめるため)\n",
    "            fields = line.split(\"\\t\")\n",
    "            if len(fields) != 2 or fields[0] == \"\": # \"\\n\"と\"\\t記号,一般,*,*,*,*,*\\n\"の行を除外するための条件\n",
    "                continue\n",
    "            else:\n",
    "                attr =  fields[1].split(\",\")\n",
    "                morph = {\"surface\": fields[0], \"base\": attr[6], \"pos\": attr[0], \"pos1\": attr[1]}\n",
    "                morphs.append(morph)\n",
    "        else: # 文末：形態素リストを文リストに追加\n",
    "            sentences.append(morphs)\n",
    "            morphs = []\n",
    "\n",
    "for morph in sentences[2]:\n",
    "    print(morph)"
   ]
  },
  {
   "cell_type": "markdown",
   "metadata": {
    "id": "mCQG7PikwO-v"
   },
   "source": [
    "## 31. 動詞\n",
    "\n",
    "> 動詞の表層形をすべて抽出せよ．"
   ]
  },
  {
   "cell_type": "code",
   "execution_count": null,
   "metadata": {
    "colab": {
     "base_uri": "https://localhost:8080/"
    },
    "executionInfo": {
     "elapsed": 53580,
     "status": "ok",
     "timestamp": 1620347124277,
     "user": {
      "displayName": "高林悠樹",
      "photoUrl": "https://lh3.googleusercontent.com/a-/AOh14GhCT3HznyNl5OwIwNHCob2mBflR2igHLN9p_x4G=s64",
      "userId": "16985431577640014557"
     },
     "user_tz": -540
    },
    "id": "ZTu4_IWVwYjN",
    "outputId": "1de6f690-b91c-4058-afe8-ee5101149f1a"
   },
   "outputs": [],
   "source": [
    "verb_surfs = set()\n",
    "for sentence in sentences:\n",
    "    for morph in sentence:\n",
    "        if morph[\"pos\"] == \"動詞\":\n",
    "            verb_surfs.add(morph[\"surface\"])\n",
    "\n",
    "print(f\"動詞の表層形の種類: {len(verb_surfs)}\\n\")\n",
    "print(\"---サンプル---\")\n",
    "for verb_surf in list(verb_surfs)[:10]:\n",
    "    print(verb_surf)"
   ]
  },
  {
   "cell_type": "markdown",
   "metadata": {
    "id": "TiyFMqAyx3YJ"
   },
   "source": [
    "## 32. 動詞の基本形\n",
    "\n",
    "> 動詞の基本形をすべて抽出せよ．"
   ]
  },
  {
   "cell_type": "code",
   "execution_count": null,
   "metadata": {
    "colab": {
     "base_uri": "https://localhost:8080/"
    },
    "executionInfo": {
     "elapsed": 53572,
     "status": "ok",
     "timestamp": 1620347124280,
     "user": {
      "displayName": "高林悠樹",
      "photoUrl": "https://lh3.googleusercontent.com/a-/AOh14GhCT3HznyNl5OwIwNHCob2mBflR2igHLN9p_x4G=s64",
      "userId": "16985431577640014557"
     },
     "user_tz": -540
    },
    "id": "7AkAD0cwyUJm",
    "outputId": "0efce259-cc57-4276-ccc3-3c5a469010fa"
   },
   "outputs": [],
   "source": [
    "verb_bases = set()\n",
    "for sentence in sentences:\n",
    "    for morph in sentence:\n",
    "        if morph[\"pos\"] == \"動詞\":\n",
    "            verb_bases.add(morph[\"base\"])\n",
    "\n",
    "print(f\"動詞の基本形の種類: {len(verb_bases)}\\n\")\n",
    "print(\"---サンプル---\")\n",
    "for verb_base in list(verb_bases)[:10]:\n",
    "    print(verb_base)"
   ]
  },
  {
   "cell_type": "markdown",
   "metadata": {
    "id": "XzgbcrSoyvD7"
   },
   "source": [
    "## 33. 「AのB」\n",
    "\n",
    "> 2つの名詞が「の」で連結されている名詞句を抽出せよ．"
   ]
  },
  {
   "cell_type": "code",
   "execution_count": null,
   "metadata": {
    "colab": {
     "base_uri": "https://localhost:8080/"
    },
    "executionInfo": {
     "elapsed": 53789,
     "status": "ok",
     "timestamp": 1620347124505,
     "user": {
      "displayName": "高林悠樹",
      "photoUrl": "https://lh3.googleusercontent.com/a-/AOh14GhCT3HznyNl5OwIwNHCob2mBflR2igHLN9p_x4G=s64",
      "userId": "16985431577640014557"
     },
     "user_tz": -540
    },
    "id": "gD8zRT25zCgQ",
    "outputId": "754edb1d-6406-4c48-9ea9-55c46a455f53"
   },
   "outputs": [],
   "source": [
    "anobs = set()\n",
    "for sentence in sentences:\n",
    "    for i in range(1, len(sentence) - 1):\n",
    "        if sentence[i - 1][\"pos\"] == \"名詞\" and sentence[i][\"surface\"] == \"の\" and sentence[i + 1][\"pos\"] == \"名詞\":\n",
    "            anobs.add(\"\".join([sentence[i - 1][\"surface\"], sentence[i][\"surface\"], sentence[i + 1][\"surface\"]]))\n",
    "\n",
    "print(f\"「名詞+の+名詞」の種類: {len(anobs)}\\n\")\n",
    "print(\"---サンプル---\")\n",
    "for n in list(anobs)[:10]:\n",
    "    print(n)"
   ]
  },
  {
   "cell_type": "markdown",
   "metadata": {
    "id": "cyow_QM32Jr8"
   },
   "source": [
    "## 34. 名詞の連接\n",
    "\n",
    "> 名詞の連接（連続して出現する名詞）を最長一致で抽出せよ．"
   ]
  },
  {
   "cell_type": "code",
   "execution_count": null,
   "metadata": {
    "colab": {
     "base_uri": "https://localhost:8080/"
    },
    "executionInfo": {
     "elapsed": 53780,
     "status": "ok",
     "timestamp": 1620347124507,
     "user": {
      "displayName": "高林悠樹",
      "photoUrl": "https://lh3.googleusercontent.com/a-/AOh14GhCT3HznyNl5OwIwNHCob2mBflR2igHLN9p_x4G=s64",
      "userId": "16985431577640014557"
     },
     "user_tz": -540
    },
    "id": "rqiBvRW-2Q-J",
    "outputId": "e5468845-5c15-432b-a789-72e37f696139"
   },
   "outputs": [],
   "source": [
    "ans = set()\n",
    "for sentence in sentences:\n",
    "    nouns = \"\"\n",
    "    num = 0\n",
    "    for morph in sentence:\n",
    "        if morph[\"pos\"] == \"名詞\":  # 最初の形態素から順に、名詞であればnounsに連結し、連結数(num)をカウント\n",
    "            nouns = \"\".join([nouns, morph[\"surface\"]])\n",
    "            num += 1\n",
    "        elif num >= 2:  # 名詞以外、かつここまでの連結数が2以上の場合は出力し、nounsとnumを初期化\n",
    "            ans.add(nouns)\n",
    "            nouns = \"\"\n",
    "            num = 0\n",
    "        else:  # それ以外の場合、nounsとnumを初期化\n",
    "            nouns = \"\"\n",
    "            num = 0\n",
    "    if num >= 2: \n",
    "        ans.add(nouns)\n",
    "\n",
    "# 確認\n",
    "print(f\"連接名詞の種類: {len(ans)}\\n\")\n",
    "print(\"---サンプル---\")\n",
    "for n in list(ans)[:10]:\n",
    "    print(n)"
   ]
  },
  {
   "cell_type": "markdown",
   "metadata": {
    "id": "noyfACge59_A"
   },
   "source": [
    "## 35. 単語の出現頻度\n",
    "\n",
    "> 文章中に出現する単語とその出現頻度を求め，出現頻度の高い順に並べよ．"
   ]
  },
  {
   "cell_type": "code",
   "execution_count": null,
   "metadata": {
    "colab": {
     "base_uri": "https://localhost:8080/"
    },
    "executionInfo": {
     "elapsed": 53774,
     "status": "ok",
     "timestamp": 1620347124509,
     "user": {
      "displayName": "高林悠樹",
      "photoUrl": "https://lh3.googleusercontent.com/a-/AOh14GhCT3HznyNl5OwIwNHCob2mBflR2igHLN9p_x4G=s64",
      "userId": "16985431577640014557"
     },
     "user_tz": -540
    },
    "id": "LMwpTp0Y6XKf",
    "outputId": "c03cc549-c7cc-4548-ce6f-6d1dcb0df430"
   },
   "outputs": [],
   "source": [
    "ans = defaultdict(int) \n",
    "for sentence in sentences:\n",
    "    for morph in sentence:\n",
    "        if morph[\"pos\"] != \"記号\": \n",
    "            ans[morph[\"base\"]] += 1  \n",
    "ans = sorted(ans.items(), key=lambda x: x[1], reverse=True) \n",
    "\n",
    "for w in ans[:10]:\n",
    "    print(w)"
   ]
  },
  {
   "cell_type": "markdown",
   "metadata": {
    "id": "lxYLIPSoIzKH"
   },
   "source": [
    "## 36. 頻度上位10語\n",
    "\n",
    "> 出現頻度が高い10語とその出現頻度をグラフ（例えば棒グラフなど）で表示せよ．"
   ]
  },
  {
   "cell_type": "code",
   "execution_count": null,
   "metadata": {
    "colab": {
     "base_uri": "https://localhost:8080/",
     "height": 264
    },
    "executionInfo": {
     "elapsed": 60357,
     "status": "ok",
     "timestamp": 1620347131114,
     "user": {
      "displayName": "高林悠樹",
      "photoUrl": "https://lh3.googleusercontent.com/a-/AOh14GhCT3HznyNl5OwIwNHCob2mBflR2igHLN9p_x4G=s64",
      "userId": "16985431577640014557"
     },
     "user_tz": -540
    },
    "id": "s3tqrthrzPpO",
    "outputId": "2f23e7a0-6c1c-4e42-ffcf-dabfac871f86"
   },
   "outputs": [],
   "source": [
    "# 前半は「35. 単語の出現頻度」と同様\n",
    "ans = defaultdict(int)\n",
    "for sentence in sentences:\n",
    "    for morph in sentence:\n",
    "        if morph[\"pos\"] != \"記号\":\n",
    "            ans[morph[\"base\"]] += 1\n",
    "ans = sorted(ans.items(), key=lambda x: x[1], reverse=True)\n",
    "\n",
    "\n",
    "keys = [a[0] for a in ans[0:10]] \n",
    "values = [a[1] for a in ans[0:10]] \n",
    "plt.figure(figsize=(8, 4))\n",
    "plt.bar(keys, values)\n",
    "plt.show()"
   ]
  },
  {
   "cell_type": "markdown",
   "metadata": {
    "id": "XhE7tN9R3Lxg"
   },
   "source": [
    "## 37. 「猫」と共起頻度の高い上位10語\n",
    "\n",
    "> 「猫」とよく共起する（共起頻度が高い）10語とその出現頻度をグラフ（例えば棒グラフなど）で表示せよ．"
   ]
  },
  {
   "cell_type": "code",
   "execution_count": null,
   "metadata": {
    "colab": {
     "base_uri": "https://localhost:8080/",
     "height": 264
    },
    "executionInfo": {
     "elapsed": 60349,
     "status": "ok",
     "timestamp": 1620347131116,
     "user": {
      "displayName": "高林悠樹",
      "photoUrl": "https://lh3.googleusercontent.com/a-/AOh14GhCT3HznyNl5OwIwNHCob2mBflR2igHLN9p_x4G=s64",
      "userId": "16985431577640014557"
     },
     "user_tz": -540
    },
    "id": "5jqrV7v141eT",
    "outputId": "c4b10368-b17c-45f2-d645-97f4949d9810"
   },
   "outputs": [],
   "source": [
    "ans = defaultdict(int)\n",
    "for sentence in sentences:\n",
    "    if \"猫\" in [morph[\"surface\"] for morph in sentence]: \n",
    "        for morph in sentence:\n",
    "            if morph[\"pos\"] != \"記号\":\n",
    "                ans[morph[\"base\"]] += 1\n",
    "\n",
    "del ans[\"猫\"] # \"猫\"自身は含めない\n",
    "ans = sorted(ans.items(), key=lambda x: x[1], reverse=True)\n",
    "\n",
    "\n",
    "keys = [a[0] for a in ans[0:10]]\n",
    "values = [a[1] for a in ans[0:10]]\n",
    "plt.figure(figsize=(8, 4))\n",
    "plt.bar(keys, values)\n",
    "plt.show()"
   ]
  },
  {
   "cell_type": "markdown",
   "metadata": {
    "id": "TG0k3Pw7On6T"
   },
   "source": [
    "## 38. ヒストグラム\n",
    "\n",
    "> 単語の出現頻度のヒストグラムを描け．ただし，横軸は出現頻度を表し，1から単語の出現頻度の最大値までの線形目盛とする．縦軸はx軸で示される出現頻度となった単語の異なり数（種類数）である．"
   ]
  },
  {
   "cell_type": "code",
   "execution_count": null,
   "metadata": {
    "colab": {
     "base_uri": "https://localhost:8080/",
     "height": 277
    },
    "executionInfo": {
     "elapsed": 1183,
     "status": "ok",
     "timestamp": 1620348661634,
     "user": {
      "displayName": "高林悠樹",
      "photoUrl": "https://lh3.googleusercontent.com/a-/AOh14GhCT3HznyNl5OwIwNHCob2mBflR2igHLN9p_x4G=s64",
      "userId": "16985431577640014557"
     },
     "user_tz": -540
    },
    "id": "Y7ILz9o6OyWg",
    "outputId": "a7390663-510d-46af-b91f-4a87155e224f"
   },
   "outputs": [],
   "source": [
    "# 単語のカウント処理は「35. 単語の出現頻度」と同様\n",
    "ans = defaultdict(int)\n",
    "for sentence in sentences:\n",
    "    for morph in sentence:\n",
    "        if morph[\"pos\"] != \"記号\":\n",
    "            ans[morph[\"base\"]] += 1\n",
    "ans = ans.values() \n",
    "\n",
    "plt.figure(figsize=(8, 4))\n",
    "plt.hist(ans, bins=100) \n",
    "plt.xlabel(\"出現頻度\")\n",
    "plt.ylabel(\"単語の種類数\")\n",
    "plt.show()"
   ]
  },
  {
   "cell_type": "markdown",
   "metadata": {
    "id": "HXjSC2ooUe6F"
   },
   "source": [
    "## 39. Zipfの法則\n",
    "\n",
    "> 単語の出現頻度順位を横軸，その出現頻度を縦軸として，両対数グラフをプロットせよ．"
   ]
  },
  {
   "cell_type": "code",
   "execution_count": null,
   "metadata": {
    "colab": {
     "base_uri": "https://localhost:8080/",
     "height": 283
    },
    "executionInfo": {
     "elapsed": 1758,
     "status": "ok",
     "timestamp": 1620352041861,
     "user": {
      "displayName": "高林悠樹",
      "photoUrl": "https://lh3.googleusercontent.com/a-/AOh14GhCT3HznyNl5OwIwNHCob2mBflR2igHLN9p_x4G=s64",
      "userId": "16985431577640014557"
     },
     "user_tz": -540
    },
    "id": "jinAiWgQUyfe",
    "outputId": "399757f8-f4d7-49f0-9f66-22f8d7ce351f"
   },
   "outputs": [],
   "source": [
    "# 単語のカウント処理は「35. 単語の出現頻度」と同様\n",
    "ans = defaultdict(int)\n",
    "for sentence in sentences:\n",
    "    for morph in sentence:\n",
    "        if morph[\"pos\"] != \"記号\":\n",
    "            ans[morph[\"base\"]] += 1\n",
    "ans = sorted(ans.items(), key=lambda x: x[1], reverse=True) \n",
    "\n",
    "ranks = [r + 1 for r in range(len(ans))] # 単語の出現頻度順位をリスト化（1～len(ans)）\n",
    "values = [a[1] for a in ans] # 単語の出現頻度をリスト化\n",
    "plt.figure(figsize=(8, 4))\n",
    "plt.scatter(ranks, values)\n",
    "plt.xscale(\"log\") # ログスケール表示\n",
    "plt.yscale(\"log\") # ログスケール表示\n",
    "plt.xlabel(\"出現頻度順位\")\n",
    "plt.ylabel(\"出現頻度\")\n",
    "plt.show()"
   ]
  },
  {
   "cell_type": "code",
   "execution_count": null,
   "metadata": {},
   "outputs": [],
   "source": []
  }
 ],
 "metadata": {
  "colab": {
   "authorship_tag": "ABX9TyOF9sekH8zHOlYkx2a/DRf1",
   "collapsed_sections": [],
   "name": "100本ノック第4章_形態素解析.ipynb",
   "provenance": []
  },
  "kernelspec": {
   "display_name": "Python 3",
   "language": "python",
   "name": "python3"
  },
  "language_info": {
   "codemirror_mode": {
    "name": "ipython",
    "version": 3
   },
   "file_extension": ".py",
   "mimetype": "text/x-python",
   "name": "python",
   "nbconvert_exporter": "python",
   "pygments_lexer": "ipython3",
   "version": "3.9.5"
  }
 },
 "nbformat": 4,
 "nbformat_minor": 4
}
