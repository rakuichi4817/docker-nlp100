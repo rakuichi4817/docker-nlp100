{
 "cells": [
  {
   "cell_type": "markdown",
   "metadata": {
    "id": "QSL4OT5Dc1pJ"
   },
   "source": [
    "# 第2章: UNIXコマンド\n",
    "\n",
    "問題URL：https://nlp100.github.io/ja/ch02.html"
   ]
  },
  {
   "cell_type": "markdown",
   "metadata": {
    "id": "R_hRJ-6lbocB"
   },
   "source": [
    "> [popular-names.txt](https://nlp100.github.io/data/popular-names.txt)は，アメリカで生まれた赤ちゃんの「名前」「性別」「人数」「年」をタブ区切り形式で格納したファイルである．以下の処理を行うプログラムを作成し，popular-names.txtを入力ファイルとして実行せよ．さらに，同様の処理をUNIXコマンドでも実行し，プログラムの実行結果を確認せよ．\n",
    "\n",
    "\n",
    "本ノートブックではPythonを使って実装していく"
   ]
  },
  {
   "cell_type": "code",
   "execution_count": null,
   "metadata": {},
   "outputs": [],
   "source": [
    "import os"
   ]
  },
  {
   "cell_type": "code",
   "execution_count": null,
   "metadata": {},
   "outputs": [],
   "source": [
    "# データを保存するディレクトリの作成\n",
    "DATADIR = \"data\"\n",
    "CURRENTDIR = \"/workspace/notebook\"\n",
    "CHAPDIR = os.path.join(DATADIR, \"chapter2\")\n",
    "\n",
    "try:\n",
    "    os.mkdir(CHAPDIR)\n",
    "except:\n",
    "    print(\"作成済み等の理由でディレクトリが作成されませんでした\")"
   ]
  },
  {
   "cell_type": "code",
   "execution_count": null,
   "metadata": {},
   "outputs": [],
   "source": [
    "# 利用するファイルの準備\n",
    "!wget -P $CURRENTDIR/$CHAPDIR \"https://nlp100.github.io/data/popular-names.txt\""
   ]
  },
  {
   "cell_type": "code",
   "execution_count": null,
   "metadata": {},
   "outputs": [],
   "source": [
    "# 本章で利用するファイルパスの指定\n",
    "in_fpath = os.path.join(CHAPDIR,\"popular-names.txt\")"
   ]
  },
  {
   "cell_type": "markdown",
   "metadata": {
    "id": "w80GTNl2bntG"
   },
   "source": [
    "## 10. 行数のカウント  \n",
    "\n",
    "> 行数をカウントせよ．確認にはwcコマンドを用いよ．"
   ]
  },
  {
   "cell_type": "code",
   "execution_count": null,
   "metadata": {},
   "outputs": [],
   "source": [
    "with open(in_fpath, \"r\", encoding=\"utf8\")as f:\n",
    "    print(len(f.readlines()))"
   ]
  },
  {
   "cell_type": "markdown",
   "metadata": {
    "id": "ggkZjVVIbyPk"
   },
   "source": [
    "## 11. タブをスペースに置換\n",
    "> タブ1文字につきスペース1文字に置換せよ．確認にはsedコマンド，trコマンド，もしくはexpandコマンドを用いよ．"
   ]
  },
  {
   "cell_type": "code",
   "execution_count": null,
   "metadata": {},
   "outputs": [],
   "source": [
    "with open(in_fpath, \"r\", encoding=\"utf8\")as f:\n",
    "    doc = f.read()\n",
    "    doc = doc.replace(\"\\t\", \" \")\n",
    "    print(doc.split(\"\\n\")[0])\n",
    "    print(\"\\t\" in doc)"
   ]
  },
  {
   "cell_type": "markdown",
   "metadata": {
    "id": "o19TqiUvbyMr"
   },
   "source": [
    "## 12. 1列目をcol1.txtに，2列目をcol2.txtに保存\n",
    "> 各行の1列目だけを抜き出したものをcol1.txtに，2列目だけを抜き出したものをcol2.txtとしてファイルに保存せよ．  確認にはcutコマンドを用いよ．"
   ]
  },
  {
   "cell_type": "code",
   "execution_count": null,
   "metadata": {},
   "outputs": [],
   "source": [
    "out_fpath1 = os.path.join(CHAPDIR, \"col1.txt\")\n",
    "out_fpath2 = os.path.join(CHAPDIR, \"col2.txt\")\n",
    "\n",
    "with open(in_fpath, \"r\", encoding=\"utf8\")as fr:\n",
    "    col1_vals = []\n",
    "    col2_vals = []  \n",
    "    for line in fr.readlines():\n",
    "        line_vals = line.rstrip(\"\\n\").split(\"\\t\")\n",
    "        col1_vals.append(line_vals[0])\n",
    "        col2_vals.append(line_vals[1])\n",
    "    \n",
    "with open(out_fpath1, \"w\", encoding=\"utf8\") as fw:\n",
    "    fw.write(\"\\n\".join(col1_vals))\n",
    "with open(out_fpath2, \"w\", encoding=\"utf8\") as fw:\n",
    "    fw.write(\"\\n\".join(col2_vals))"
   ]
  },
  {
   "cell_type": "markdown",
   "metadata": {
    "id": "_RcsRts3byJx"
   },
   "source": [
    "## 13. col1.txtとcol2.txtをマージ\n",
    "> 12で作ったcol1.txtとcol2.txtを結合し，元のファイルの1列目と2列目をタブ区切りで並べたテキストファイルを作成せよ．確認にはpasteコマンドを用いよ．\n"
   ]
  },
  {
   "cell_type": "code",
   "execution_count": null,
   "metadata": {},
   "outputs": [],
   "source": [
    "out_fpath = os.path.join(CHAPDIR, \"col12_merge.txt\")\n",
    "\n",
    "with open(out_fpath1, \"r\", encoding=\"utf8\")as fr:\n",
    "    col1_vals = [line.rstrip(\"\\n\") for line in fr.readlines()]\n",
    "with open(out_fpath2, \"r\", encoding=\"utf8\")as fr:\n",
    "    col2_vals = [line.rstrip(\"\\n\") for line in fr.readlines()]\n",
    "\n",
    "with open(out_fpath, \"w\", encoding=\"utf8\")as fw:\n",
    "    fw.write(\"\\n\".join([f\"{col1_val}\\t{col2_val}\" for col1_val, col2_val in zip(col1_vals, col2_vals)]))"
   ]
  },
  {
   "cell_type": "markdown",
   "metadata": {
    "id": "rNAqtNOMbyHP"
   },
   "source": [
    "## 14. 先頭からN行を出力\n",
    ">自然数Nをコマンドライン引数などの手段で受け取り，入力のうち先頭のN行だけを表示せよ． 確認にはheadコマンドを用いよ．"
   ]
  },
  {
   "cell_type": "code",
   "execution_count": null,
   "metadata": {
    "colab": {
     "base_uri": "https://localhost:8080/"
    },
    "executionInfo": {
     "elapsed": 787,
     "status": "ok",
     "timestamp": 1617171892354,
     "user": {
      "displayName": "林寿樹",
      "photoUrl": "https://lh3.googleusercontent.com/a-/AOh14Gg-cJuM0Z4u74Mo3sgYLnIhIvs3REvV7a1RENNqOA=s64",
      "userId": "12227054032048360321"
     },
     "user_tz": -540
    },
    "id": "Q1alsRDMrOKm",
    "outputId": "f5bbba7b-685d-4615-fb3f-9c2b2eafef61"
   },
   "outputs": [],
   "source": [
    "def output_head(N):\n",
    "    with open(in_fpath, \"r\", encoding=\"utf8\")as f:\n",
    "        lines = f.readlines()\n",
    "        print(lines[:N])\n",
    "\n",
    "        \n",
    "output_head(2)"
   ]
  },
  {
   "cell_type": "markdown",
   "metadata": {
    "id": "j1BkQrSKbyEd"
   },
   "source": [
    "## 15. 末尾のN行を出力\n",
    "> 自然数Nをコマンドライン引数などの手段で受け取り，入力のうち末尾のN行だけを表示せよ．確認にはtailコマンドを用いよ．"
   ]
  },
  {
   "cell_type": "code",
   "execution_count": null,
   "metadata": {
    "colab": {
     "base_uri": "https://localhost:8080/"
    },
    "executionInfo": {
     "elapsed": 755,
     "status": "ok",
     "timestamp": 1617171995345,
     "user": {
      "displayName": "林寿樹",
      "photoUrl": "https://lh3.googleusercontent.com/a-/AOh14Gg-cJuM0Z4u74Mo3sgYLnIhIvs3REvV7a1RENNqOA=s64",
      "userId": "12227054032048360321"
     },
     "user_tz": -540
    },
    "id": "Ttmx-GXydEkD",
    "outputId": "6d9879ab-c1ae-4d81-d841-a9f839f3cae5"
   },
   "outputs": [],
   "source": [
    "def output_tail(N):\n",
    "    with open(in_fpath, \"r\", encoding=\"utf8\")as f:\n",
    "        lines = f.readlines()\n",
    "        print(lines[-N:])\n",
    "\n",
    "\n",
    "output_tail(5)"
   ]
  },
  {
   "cell_type": "markdown",
   "metadata": {
    "id": "mzyzHv3qbyB1"
   },
   "source": [
    "## 16. ファイルをN分割する \n",
    "\n",
    "> 自然数Nをコマンドライン引数などの手段で受け取り，入力のファイルを行単位でN分割せよ．  同様の処理をsplitコマンドで実現せよ．"
   ]
  },
  {
   "cell_type": "code",
   "execution_count": null,
   "metadata": {},
   "outputs": [],
   "source": [
    "def split_file(N):\n",
    "    # 分割した文書を保存するリスト\n",
    "    with open(in_fpath, \"r\", encoding=\"utf8\")as f:\n",
    "        all_lines = f.readlines()\n",
    "    # 一塊の行数\n",
    "    for i_chunk in range(N):\n",
    "        yield all_lines[i_chunk * len(all_lines) // N:(i_chunk + 1) * len(all_lines) // N]\n",
    "\n",
    "    \n",
    "result = list(split_file(12))\n",
    "[len(lines) for lines in result]"
   ]
  },
  {
   "cell_type": "markdown",
   "metadata": {
    "id": "VCX3I_hobx-s"
   },
   "source": [
    "## 17. １列目の文字列の異なり\n",
    ">1列目の文字列の種類（異なる文字列の集合）を求めよ．確認にはcut, sort, uniqコマンドを用いよ．"
   ]
  },
  {
   "cell_type": "code",
   "execution_count": null,
   "metadata": {},
   "outputs": [],
   "source": [
    "with open(in_fpath, \"r\", encoding=\"utf8\")as fr:\n",
    "    col1_vals = []\n",
    "    for line in fr.readlines():\n",
    "        line_vals = line.rstrip(\"\\n\").split(\"\\t\")\n",
    "        col1_vals.append(line_vals[0])\n",
    "\n",
    "len(set(col1_vals))"
   ]
  },
  {
   "cell_type": "markdown",
   "metadata": {
    "id": "7aWesP37bx8J"
   },
   "source": [
    "## 18. 各行を3コラム目の数値の降順にソート\n",
    "> 各行を3コラム目の数値の逆順で整列せよ（注意: 各行の内容は変更せずに並び替えよ）．確認にはsortコマンドを用いよ（この問題はコマンドで実行した時の結果と合わなくてもよい）．"
   ]
  },
  {
   "cell_type": "code",
   "execution_count": null,
   "metadata": {
    "scrolled": true,
    "tags": []
   },
   "outputs": [],
   "source": [
    "with open(in_fpath, \"r\", encoding=\"utf8\")as fr:\n",
    "    records = []\n",
    "    for line in fr.readlines():\n",
    "        record_vals = line.rstrip(\"\\n\").split(\"\\t\")\n",
    "        record_vals[2] = int(record_vals[2])\n",
    "        record_vals[3] = int(record_vals[3])\n",
    "        records.append(record_vals)\n",
    "        \n",
    "sorted(records, key=lambda x: x[2], reverse=True)"
   ]
  },
  {
   "cell_type": "markdown",
   "metadata": {
    "id": "BIWSLmA9bx5f"
   },
   "source": [
    "## 19. 各行の1コラム目の文字列の出現頻度を求め，出現頻度の高い順に並べる\n",
    "> 各行の1列目の文字列の出現頻度を求め，その高い順に並べて表示せよ．  確認にはcut, uniq, sortコマンドを用いよ．"
   ]
  },
  {
   "cell_type": "code",
   "execution_count": null,
   "metadata": {
    "id": "6uJICamo07xS",
    "scrolled": true,
    "tags": []
   },
   "outputs": [],
   "source": [
    "from collections import Counter\n",
    "with open(in_fpath, \"r\", encoding=\"utf8\")as fr:\n",
    "    col1_vals = [line.split(\"\\t\")[0] for line in fr.readlines()]\n",
    "    \n",
    "word_counts = Counter(col1_vals)\n",
    "sorted(word_counts.items(), key=lambda x:x[1], reverse=True)"
   ]
  },
  {
   "cell_type": "code",
   "execution_count": null,
   "metadata": {},
   "outputs": [],
   "source": []
  }
 ],
 "metadata": {
  "colab": {
   "authorship_tag": "ABX9TyMY/UDaKz/Vvr0cCntdn2uM",
   "collapsed_sections": [],
   "name": "第2章: UNIXコマンド.ipynb",
   "provenance": [],
   "toc_visible": true
  },
  "kernelspec": {
   "display_name": "Python 3",
   "language": "python",
   "name": "python3"
  },
  "language_info": {
   "codemirror_mode": {
    "name": "ipython",
    "version": 3
   },
   "file_extension": ".py",
   "mimetype": "text/x-python",
   "name": "python",
   "nbconvert_exporter": "python",
   "pygments_lexer": "ipython3",
   "version": "3.9.5"
  }
 },
 "nbformat": 4,
 "nbformat_minor": 4
}
