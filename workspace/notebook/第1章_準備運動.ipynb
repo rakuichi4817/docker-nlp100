{
 "cells": [
  {
   "cell_type": "markdown",
   "metadata": {
    "id": "QLNrgneuYSx8"
   },
   "source": [
    "# 第1章: 準備運動\n",
    "\n",
    "問題URL：https://nlp100.github.io/ja/ch01.html"
   ]
  },
  {
   "cell_type": "code",
   "execution_count": null,
   "metadata": {},
   "outputs": [],
   "source": [
    "import random"
   ]
  },
  {
   "cell_type": "markdown",
   "metadata": {
    "id": "pb9M6LbjcTmY"
   },
   "source": [
    "## 00. 文字列の逆順\n",
    "\n",
    "> 文字列”stressed”の文字を逆に（末尾から先頭に向かって）並べた文字列を得よ．"
   ]
  },
  {
   "cell_type": "code",
   "execution_count": null,
   "metadata": {
    "colab": {
     "base_uri": "https://localhost:8080/"
    },
    "executionInfo": {
     "elapsed": 952,
     "status": "ok",
     "timestamp": 1618204384560,
     "user": {
      "displayName": "yuki hirose",
      "photoUrl": "",
      "userId": "03420450350171947306"
     },
     "user_tz": -540
    },
    "id": "n8YKTT5ocd-T",
    "outputId": "d6559cbb-2dd5-4c69-d8a7-0c4e335230cb"
   },
   "outputs": [],
   "source": [
    "str_ = \"stressed\"\n",
    "ans = str_[::-1]\n",
    "\n",
    "ans"
   ]
  },
  {
   "cell_type": "markdown",
   "metadata": {},
   "source": [
    "## 01. 「パタトクカシーー」\n",
    "\n",
    "> 「パタトクカシーー」という文字列の1,3,5,7文字目を取り出して連結した文字列を得よ．"
   ]
  },
  {
   "cell_type": "code",
   "execution_count": null,
   "metadata": {
    "colab": {
     "base_uri": "https://localhost:8080/"
    },
    "executionInfo": {
     "elapsed": 656,
     "status": "ok",
     "timestamp": 1618204387206,
     "user": {
      "displayName": "yuki hirose",
      "photoUrl": "",
      "userId": "03420450350171947306"
     },
     "user_tz": -540
    },
    "id": "ZU_PgHZmcKEr",
    "outputId": "e3a93751-ed94-404b-d633-0d4b9dc7fddc"
   },
   "outputs": [],
   "source": [
    "str_ = \"パタトクカシーー\"\n",
    "ans = str_[::2]\n",
    "\n",
    "ans"
   ]
  },
  {
   "cell_type": "markdown",
   "metadata": {
    "id": "x7YAcnbMe6tE"
   },
   "source": [
    "## 02. 「パトカー」＋「タクシー」＝「パタトクカシーー」\n",
    "\n",
    "> 「パトカー」＋「タクシー」の文字を先頭から交互に連結して文字列「パタトクカシーー」を得よ"
   ]
  },
  {
   "cell_type": "code",
   "execution_count": null,
   "metadata": {
    "colab": {
     "base_uri": "https://localhost:8080/"
    },
    "executionInfo": {
     "elapsed": 377,
     "status": "ok",
     "timestamp": 1617068912843,
     "user": {
      "displayName": "yuki hirose",
      "photoUrl": "",
      "userId": "03420450350171947306"
     },
     "user_tz": -540
    },
    "id": "lDUq959XdjTG",
    "outputId": "5aae5ceb-a8b4-4b4a-ec82-2ce44508ef20"
   },
   "outputs": [],
   "source": [
    "str1 = \"パトカー\"\n",
    "str2 = \"タクシー\"\n",
    "ans = \"\".join([i + j for i, j in zip(str1, str2)])\n",
    "\n",
    "ans"
   ]
  },
  {
   "cell_type": "markdown",
   "metadata": {
    "id": "cbDkhEYJf2YL"
   },
   "source": [
    "# 03. 円周率"
   ]
  },
  {
   "cell_type": "markdown",
   "metadata": {
    "id": "M3TRZAqBebq-"
   },
   "source": [
    " > “Now I need a drink, alcoholic of course, after the heavy lectures involving quantum mechanics.”という文を単語に分解し，各単語の（アルファベットの）文字数を先頭から出現順に並べたリストを作成せよ．"
   ]
  },
  {
   "cell_type": "code",
   "execution_count": null,
   "metadata": {
    "colab": {
     "base_uri": "https://localhost:8080/"
    },
    "executionInfo": {
     "elapsed": 753,
     "status": "ok",
     "timestamp": 1618204415776,
     "user": {
      "displayName": "yuki hirose",
      "photoUrl": "",
      "userId": "03420450350171947306"
     },
     "user_tz": -540
    },
    "id": "WAu5Jxytf_G2",
    "outputId": "c06e5a0b-ccb7-42e7-c531-ff07c9378932"
   },
   "outputs": [],
   "source": [
    "str_ = \"Now I need a drink, alcoholic of course, after the heavy lectures involving quantum mechanics.\"\n",
    "word_counts = [len(word) for word in str_.replace(\",\", \"\").replace(\".\", \"\").split()]\n",
    "\n",
    "word_counts"
   ]
  },
  {
   "cell_type": "markdown",
   "metadata": {
    "id": "ziLOoNCaggkl"
   },
   "source": [
    "# 04. 元素記号"
   ]
  },
  {
   "cell_type": "markdown",
   "metadata": {
    "id": "rkUJAzVqgkKL"
   },
   "source": [
    "> “Hi He Lied Because Boron Could Not Oxidize Fluorine. New Nations Might Also Sign Peace Security Clause. Arthur King Can.”という文を単語に分解し，1, 5, 6, 7, 8, 9, 15, 16, 19番目の単語は先頭の1文字，それ以外の単語は先頭に2文字を取り出し，取り出した文字列から単語の位置（先頭から何番目の単語か）への連想配列（辞書型もしくはマップ型）を作成せよ．"
   ]
  },
  {
   "cell_type": "code",
   "execution_count": null,
   "metadata": {
    "colab": {
     "base_uri": "https://localhost:8080/"
    },
    "executionInfo": {
     "elapsed": 899,
     "status": "ok",
     "timestamp": 1618204427151,
     "user": {
      "displayName": "yuki hirose",
      "photoUrl": "",
      "userId": "03420450350171947306"
     },
     "user_tz": -540
    },
    "id": "yPPt70IqgJpw",
    "outputId": "932d70e2-a453-4425-a232-e423db09675a"
   },
   "outputs": [],
   "source": [
    "str_ = \"\"\"Hi He Lied Because Boron Could Not Oxidize Fluorine. \\\n",
    "New Nations Might Also Sign Peace Security Clause. Arthur King Can.\"\"\"\n",
    "\n",
    "words = str_.replace(\",\", \"\").replace(\".\", \"\").split()\n",
    "one_idxs = [1, 5, 6, 7, 8, 9, 15, 16, 19]\n",
    "elms = {}\n",
    "\n",
    "for i, word in enumerate(words, 1):\n",
    "    if i in one_idxs:\n",
    "        elms[word[0]] = i\n",
    "    else:\n",
    "        elms[word[:2]] = i\n",
    "elms"
   ]
  },
  {
   "cell_type": "markdown",
   "metadata": {
    "id": "98Jj8GLwgw7C"
   },
   "source": [
    "# 05. n-gram"
   ]
  },
  {
   "cell_type": "markdown",
   "metadata": {
    "id": "6nQpaHHxg1Zx"
   },
   "source": [
    "> 与えられたシーケンス（文字列やリストなど）からn-gramを作る関数を作成せよ．この関数を用い，”I am an NLPer”という文から単語bi-gram，文字bi-gramを得よ．"
   ]
  },
  {
   "cell_type": "code",
   "execution_count": null,
   "metadata": {
    "colab": {
     "base_uri": "https://localhost:8080/"
    },
    "executionInfo": {
     "elapsed": 619,
     "status": "ok",
     "timestamp": 1617069028689,
     "user": {
      "displayName": "yuki hirose",
      "photoUrl": "",
      "userId": "03420450350171947306"
     },
     "user_tz": -540
    },
    "id": "KvNdPTFxgApJ",
    "outputId": "468b5515-f5d7-47b8-ed70-f5a2e560e143"
   },
   "outputs": [],
   "source": [
    "str_ = \"I am an NLPer\"\n",
    "\n",
    "def gen_ngrams(text, n=2, mode=\"word\"):\n",
    "    \"\"\"指定したn-gramのリストを返す（単語、文字に対応）\n",
    "\n",
    "    Args:\n",
    "        text(str): 対象文書\n",
    "        n(int)   : n-gramのnに相当. default to 2\n",
    "        mode(str): \"word\"で単語単位, \"char\"は文字単位. default to \"word\"\n",
    "    Returns:\n",
    "        list: n-gramをlist型で返す\n",
    "    \"\"\"\n",
    "    if mode==\"word\":\n",
    "        words = text.split(\" \")\n",
    "        return [\" \".join(words[idx:idx + n]) for idx in range(len(words) - n + 1)]\n",
    "    elif mode==\"char\":\n",
    "        return [text[idx:idx + n] for idx in range(len(text) - n + 1)]\n",
    "    else:\n",
    "        return None"
   ]
  },
  {
   "cell_type": "code",
   "execution_count": null,
   "metadata": {},
   "outputs": [],
   "source": [
    "gen_ngrams(str_)"
   ]
  },
  {
   "cell_type": "code",
   "execution_count": null,
   "metadata": {},
   "outputs": [],
   "source": [
    "gen_ngrams(str_, mode=\"char\")"
   ]
  },
  {
   "cell_type": "markdown",
   "metadata": {
    "id": "PRK-0Y4dg-GK"
   },
   "source": [
    "# 06. 集合"
   ]
  },
  {
   "cell_type": "markdown",
   "metadata": {
    "id": "zbNZP4NVhB-9"
   },
   "source": [
    "> “paraparaparadise”と”paragraph”に含まれる文字bi-gramの集合を，それぞれ, XとYとして求め，XとYの和集合，積集合，差集合を求めよ．さらに，’se’というbi-gramがXおよびYに含まれるかどうかを調べよ．"
   ]
  },
  {
   "cell_type": "code",
   "execution_count": null,
   "metadata": {
    "colab": {
     "base_uri": "https://localhost:8080/"
    },
    "executionInfo": {
     "elapsed": 889,
     "status": "ok",
     "timestamp": 1616984470471,
     "user": {
      "displayName": "yuki hirose",
      "photoUrl": "",
      "userId": "03420450350171947306"
     },
     "user_tz": -540
    },
    "id": "IzaR2KNFg6vP",
    "outputId": "90390d95-3e56-4933-be2e-367f0deb5d3f"
   },
   "outputs": [],
   "source": [
    "str1 = \"paraparaparadise\"\n",
    "str2 = \"paragraph\"\n",
    "\n",
    "X = set(gen_ngrams(str1, mode=\"char\")) \n",
    "Y = set(gen_ngrams(str2, mode=\"char\"))"
   ]
  },
  {
   "cell_type": "code",
   "execution_count": null,
   "metadata": {},
   "outputs": [],
   "source": [
    "# 和集合\n",
    "X | Y "
   ]
  },
  {
   "cell_type": "code",
   "execution_count": null,
   "metadata": {},
   "outputs": [],
   "source": [
    "# 積集合\n",
    "X & Y"
   ]
  },
  {
   "cell_type": "code",
   "execution_count": null,
   "metadata": {},
   "outputs": [],
   "source": [
    "# 差集合\n",
    "X - Y"
   ]
  },
  {
   "cell_type": "code",
   "execution_count": null,
   "metadata": {},
   "outputs": [],
   "source": [
    "print(\"se\" in X)\n",
    "print(\"se\" in Y)"
   ]
  },
  {
   "cell_type": "markdown",
   "metadata": {
    "id": "mqqefj56hHtm"
   },
   "source": [
    "# 07. テンプレートによる文生成"
   ]
  },
  {
   "cell_type": "markdown",
   "metadata": {
    "id": "WCH4SjPghNOn"
   },
   "source": [
    "> 引数x, y, zを受け取り「x時のyはz」という文字列を返す関数を実装せよ．さらに，x=12, y=”気温”, z=22.4として，実行結果を確認せよ．"
   ]
  },
  {
   "cell_type": "code",
   "execution_count": null,
   "metadata": {
    "colab": {
     "base_uri": "https://localhost:8080/"
    },
    "executionInfo": {
     "elapsed": 870,
     "status": "ok",
     "timestamp": 1616984482127,
     "user": {
      "displayName": "yuki hirose",
      "photoUrl": "",
      "userId": "03420450350171947306"
     },
     "user_tz": -540
    },
    "id": "2xRlNwqkhFTP",
    "outputId": "94eefcac-ed97-411f-a0e4-a59f5e69a8ba"
   },
   "outputs": [],
   "source": [
    "def gen_sentence(x, y, z):\n",
    "    print(f\"{x}時のとき{y}は{z}\")\n",
    "\n",
    "gen_sentence(12, \"気温\", 22.4)"
   ]
  },
  {
   "cell_type": "markdown",
   "metadata": {
    "id": "ZlBThAa2hPve"
   },
   "source": [
    "# 08. 暗号文"
   ]
  },
  {
   "cell_type": "markdown",
   "metadata": {
    "id": "1qjehwLOhRUQ"
   },
   "source": [
    "### 与えられた文字列の各文字を，以下の仕様で変換する関数cipherを実装せよ．\n",
    "\n",
    "英小文字ならば(219 - 文字コード)の文字に置換\n",
    "その他の文字はそのまま出力\n",
    "### この関数を用い，英語のメッセージを暗号化・復号化せよ．"
   ]
  },
  {
   "cell_type": "markdown",
   "metadata": {
    "id": "wFwnek6rtp7C"
   },
   "source": [
    "### 【サイトの回答】"
   ]
  },
  {
   "cell_type": "code",
   "execution_count": null,
   "metadata": {
    "colab": {
     "base_uri": "https://localhost:8080/"
    },
    "executionInfo": {
     "elapsed": 1003,
     "status": "ok",
     "timestamp": 1616984485588,
     "user": {
      "displayName": "yuki hirose",
      "photoUrl": "",
      "userId": "03420450350171947306"
     },
     "user_tz": -540
    },
    "id": "1YVzEo8ohLu2",
    "outputId": "b22a9f73-c5d8-4e50-8009-8268489fa80d"
   },
   "outputs": [],
   "source": [
    "def cipher(str_):\n",
    "    return \"\".join([chr(219 - ord(x)) if x.islower() else x for x in str_])\n",
    "\n",
    "message = \"the quick brown fox jumps over the lazy dog\"\n",
    "message = cipher(message)\n",
    "print(\"暗号化:\", message)\n",
    "message = cipher(message)\n",
    "print(\"復号化:\", message)"
   ]
  },
  {
   "cell_type": "markdown",
   "metadata": {
    "id": "a4SSOuvJhVP2"
   },
   "source": [
    "# 09. Typoglycemia"
   ]
  },
  {
   "cell_type": "markdown",
   "metadata": {
    "id": "O0a5upmXhW_K"
   },
   "source": [
    "> スペースで区切られた単語列に対して，各単語の先頭と末尾の文字は残し，それ以外の文字の順序をランダムに並び替えるプログラムを作成せよ．ただし，長さが４以下の単語は並び替えないこととする．適当な英語の文（例えば”I couldn’t believe that I could actually understand what I was reading : the phenomenal power of the human mind .”）を与え，その実行結果を確認せよ．"
   ]
  },
  {
   "cell_type": "code",
   "execution_count": null,
   "metadata": {
    "colab": {
     "base_uri": "https://localhost:8080/"
    },
    "executionInfo": {
     "elapsed": 907,
     "status": "ok",
     "timestamp": 1616984490866,
     "user": {
      "displayName": "yuki hirose",
      "photoUrl": "",
      "userId": "03420450350171947306"
     },
     "user_tz": -540
    },
    "id": "Z1BWb2CKhTkA",
    "outputId": "75e5c452-97ba-4b4c-de7b-e01d5fd8896d"
   },
   "outputs": [],
   "source": [
    "def typoglycemia(sentence):\n",
    "    result = []\n",
    "    for word in sentence.split():\n",
    "        if len(word) > 4:\n",
    "            word = word[:1] + \"\".join(random.sample(word[1:-1], len(word) - 2)) + word[-1:]\n",
    "        result.append(word)\n",
    "    return \" \".join(result)\n",
    "\n",
    "str_ = \"\"\"I couldn't believe that I could actually understand what I was reading : \\\n",
    "the phenomenal power of the human mind .\"\"\"\n",
    "\n",
    "typoglycemia(str_)"
   ]
  }
 ],
 "metadata": {
  "colab": {
   "authorship_tag": "ABX9TyNj+Bk4w3VTtmonz7Hj+4XL",
   "collapsed_sections": [],
   "name": "100本ノック第１章.ipynb",
   "provenance": [],
   "toc_visible": true
  },
  "kernelspec": {
   "display_name": "Python 3",
   "language": "python",
   "name": "python3"
  },
  "language_info": {
   "codemirror_mode": {
    "name": "ipython",
    "version": 3
   },
   "file_extension": ".py",
   "mimetype": "text/x-python",
   "name": "python",
   "nbconvert_exporter": "python",
   "pygments_lexer": "ipython3",
   "version": "3.9.5"
  }
 },
 "nbformat": 4,
 "nbformat_minor": 4
}
