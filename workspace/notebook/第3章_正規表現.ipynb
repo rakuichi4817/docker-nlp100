{
 "cells": [
  {
   "cell_type": "markdown",
   "id": "signal-disclaimer",
   "metadata": {
    "id": "signal-disclaimer"
   },
   "source": [
    "# 第3章: 正規表現\n",
    "\n",
    "> Wikipediaの記事を以下のフォーマットで書き出したファイル[jawiki-country.json.gz](https://nlp100.github.io/data/jawiki-country.json.gz)がある．  \n",
    "> - 1行に1記事の情報がJSON形式で格納される  \n",
    "> - 各行には記事名が”title”キーに，記事本文が”text”キーの辞書オブジェクトに格納され，そのオブジェクトがJSON形式で書き出される  \n",
    "> - ファイル全体はgzipで圧縮される\n",
    ">\n",
    "> 以下の処理を行うプログラムを作成せよ．\n",
    "\n",
    "\n",
    "解答は基本Qiitaの[【言語処理100本ノック 2020】第3章: 正規表現](https://qiita.com/yamaru/items/255d0c5dcb2d1d4ccc14)を利用"
   ]
  },
  {
   "cell_type": "code",
   "execution_count": null,
   "id": "65cdfeb9-4a49-40e8-80a0-378fb7b3d2fa",
   "metadata": {},
   "outputs": [],
   "source": [
    "import os\n",
    "import json\n",
    "import re\n",
    "import requests\n",
    "from pprint import pprint"
   ]
  },
  {
   "cell_type": "code",
   "execution_count": null,
   "id": "aca528b5-038f-4be4-b6ad-ee57057fa10f",
   "metadata": {},
   "outputs": [],
   "source": [
    "# データを保存するディレクトリの作成\n",
    "DATADIR = \"data\"\n",
    "CURRENTDIR = \"/workspace/notebook\"\n",
    "CHAPDIR = os.path.join(DATADIR, \"chapter3\")\n",
    "\n",
    "try:\n",
    "    os.mkdir(CHAPDIR)\n",
    "except:\n",
    "    print(\"作成済み等の理由でディレクトリが作成されませんでした\")"
   ]
  },
  {
   "cell_type": "code",
   "execution_count": null,
   "id": "50507ac4-e2c6-43d4-b385-aa7a3f9e8ecf",
   "metadata": {},
   "outputs": [],
   "source": [
    "# 利用するファイルの取得\n",
    "!wget -P $CURRENTDIR/$CHAPDIR \"https://nlp100.github.io/data/jawiki-country.json.gz\"\n",
    "\n",
    "# 解凍\n",
    "!gunzip $CURRENTDIR/$CHAPDIR/jawiki-country.json.gz"
   ]
  },
  {
   "cell_type": "code",
   "execution_count": null,
   "id": "252b3654-b461-489f-b1a5-a56cdc32a368",
   "metadata": {},
   "outputs": [],
   "source": [
    "# 利用するデータファイル名\n",
    "in_filename = \"jawiki-country.json\""
   ]
  },
  {
   "cell_type": "markdown",
   "id": "european-newark",
   "metadata": {
    "id": "european-newark"
   },
   "source": [
    "## 20. JSONデータの読み込み\n",
    "\n",
    ">Wikipedia記事のJSONファイルを読み込み，「イギリス」に関する記事本文を表示せよ.問題21-29では，ここで抽出した記事本文に対して実行せよ．"
   ]
  },
  {
   "cell_type": "code",
   "execution_count": null,
   "id": "f420f028-86f1-4d43-b8bd-2af9d4053444",
   "metadata": {
    "scrolled": true,
    "tags": []
   },
   "outputs": [],
   "source": [
    "in_fpath = os.path.join(CHAPDIR, in_filename)\n",
    "\n",
    "with open(in_fpath, \"r\", encoding=\"utf8\")as f:\n",
    "    # 1行1レコード\n",
    "    for line in f:\n",
    "        record = json.loads(line)\n",
    "        if record[\"title\"] == \"イギリス\":\n",
    "            text_uk = record[\"text\"]\n",
    "            break\n",
    "            \n",
    "print(text_uk)"
   ]
  },
  {
   "cell_type": "markdown",
   "id": "charming-thumb",
   "metadata": {
    "id": "charming-thumb"
   },
   "source": [
    "## 21. カテゴリ名を含む行を抽出\n",
    "\n",
    "> 記事中でカテゴリ名を宣言している行を抽出せよ．"
   ]
  },
  {
   "cell_type": "code",
   "execution_count": null,
   "id": "happy-brazil",
   "metadata": {
    "colab": {
     "base_uri": "https://localhost:8080/"
    },
    "executionInfo": {
     "elapsed": 562,
     "status": "ok",
     "timestamp": 1619434150202,
     "user": {
      "displayName": "樫原篤史",
      "photoUrl": "",
      "userId": "05731417106732438151"
     },
     "user_tz": -540
    },
    "id": "happy-brazil",
    "outputId": "7c7665f3-20e5-46b5-c019-2073ca51b6e1"
   },
   "outputs": [],
   "source": [
    "pattern = r\"^(.*\\[\\[Category:.*\\]\\].*)$\"\n",
    "result = re.findall(pattern, text_uk, re.MULTILINE)\n",
    "pprint(result)"
   ]
  },
  {
   "cell_type": "markdown",
   "id": "french-payroll",
   "metadata": {
    "id": "french-payroll"
   },
   "source": [
    "# 22. カテゴリ名の抽出\n",
    "\n",
    "> 記事のカテゴリ名を（行単位ではなく名前で）抽出せよ．"
   ]
  },
  {
   "cell_type": "code",
   "execution_count": null,
   "id": "empty-interstate",
   "metadata": {
    "colab": {
     "base_uri": "https://localhost:8080/"
    },
    "executionInfo": {
     "elapsed": 486,
     "status": "ok",
     "timestamp": 1619434158362,
     "user": {
      "displayName": "樫原篤史",
      "photoUrl": "",
      "userId": "05731417106732438151"
     },
     "user_tz": -540
    },
    "id": "empty-interstate",
    "outputId": "fef4b9ea-fc1f-45b3-e5a1-e1eb7f7c69d2"
   },
   "outputs": [],
   "source": [
    "pattern = r\"^.*\\[\\[Category:(.*?)(?:\\|.*)?\\]\\].*$\"\n",
    "result = re.findall(pattern, text_uk, re.MULTILINE)\n",
    "pprint(result)"
   ]
  },
  {
   "cell_type": "markdown",
   "id": "exclusive-sample",
   "metadata": {
    "id": "exclusive-sample"
   },
   "source": [
    "## 23. セクション構造\n",
    "\n",
    "> 記事中に含まれるセクション名とそのレベル（例えば”== セクション名 ==”なら1）を表示せよ．"
   ]
  },
  {
   "cell_type": "code",
   "execution_count": null,
   "id": "ancient-guest",
   "metadata": {
    "colab": {
     "base_uri": "https://localhost:8080/"
    },
    "executionInfo": {
     "elapsed": 1047,
     "status": "ok",
     "timestamp": 1619434221595,
     "user": {
      "displayName": "樫原篤史",
      "photoUrl": "",
      "userId": "05731417106732438151"
     },
     "user_tz": -540
    },
    "id": "ancient-guest",
    "outputId": "b4e4c18b-8812-43d4-ea5b-b586350b9c0c",
    "scrolled": true
   },
   "outputs": [],
   "source": [
    "pattern = r\"^(\\={2,})\\s*(.+?)\\s*(\\={2,}).*$\"\n",
    "result = [i[1] + \":\" + str(len(i[0]) - 1) for i in re.findall(pattern, text_uk, re.MULTILINE)]\n",
    "pprint(result)"
   ]
  },
  {
   "cell_type": "markdown",
   "id": "worthy-unknown",
   "metadata": {
    "id": "worthy-unknown"
   },
   "source": [
    "## 24. ファイル参照の抽出\n",
    "\n",
    "> 記事から参照されているメディアファイルをすべて抜き出せ．"
   ]
  },
  {
   "cell_type": "code",
   "execution_count": null,
   "id": "vital-official",
   "metadata": {
    "colab": {
     "base_uri": "https://localhost:8080/"
    },
    "executionInfo": {
     "elapsed": 1161,
     "status": "ok",
     "timestamp": 1619434231635,
     "user": {
      "displayName": "樫原篤史",
      "photoUrl": "",
      "userId": "05731417106732438151"
     },
     "user_tz": -540
    },
    "id": "vital-official",
    "outputId": "1d373456-1d7f-47e3-e0e1-6fa7dd9b53a7",
    "scrolled": true
   },
   "outputs": [],
   "source": [
    "pattern = r\"\\[\\[ファイル:(.+?)\\|\"\n",
    "result = re.findall(pattern, text_uk)\n",
    "pprint(result)"
   ]
  },
  {
   "cell_type": "markdown",
   "id": "mobile-livestock",
   "metadata": {
    "id": "mobile-livestock"
   },
   "source": [
    "## 25. テンプレートの抽出\n",
    "\n",
    "> 記事中に含まれる「基礎情報」テンプレートのフィールド名と値を抽出し，辞書オブジェクトとして格納せよ．"
   ]
  },
  {
   "cell_type": "code",
   "execution_count": null,
   "id": "through-fundamentals",
   "metadata": {
    "colab": {
     "base_uri": "https://localhost:8080/"
    },
    "executionInfo": {
     "elapsed": 614,
     "status": "ok",
     "timestamp": 1619434277598,
     "user": {
      "displayName": "樫原篤史",
      "photoUrl": "",
      "userId": "05731417106732438151"
     },
     "user_tz": -540
    },
    "id": "through-fundamentals",
    "outputId": "faaf1468-a22c-4b67-dc68-2c547fff68a4",
    "scrolled": true
   },
   "outputs": [],
   "source": [
    "pattern = r\"^\\{\\{基礎情報.*?$(.*?)^\\}\\}\"\n",
    "template = re.findall(pattern, text_uk, re.MULTILINE + re.DOTALL)\n",
    "print(template)\n",
    "\n",
    "\n",
    "pattern = r\"^\\|(.+?)\\s*=\\s*(.+?)(?:(?=\\n\\|)|(?=\\n$))\"\n",
    "result = dict(re.findall(pattern, template[0], re.MULTILINE + re.DOTALL))\n",
    "for k, v in result.items():\n",
    "    print(f\"{k}: {v}\")"
   ]
  },
  {
   "cell_type": "markdown",
   "id": "regulated-decline",
   "metadata": {
    "id": "regulated-decline"
   },
   "source": [
    "## 26. 強調マークアップの除去\n",
    "\n",
    "> 25の処理時に，テンプレートの値からMediaWikiの強調マークアップ（弱い強調，強調，強い強調のすべて）を除去してテキストに変換せよ（参考: マークアップ早見表）．"
   ]
  },
  {
   "cell_type": "code",
   "execution_count": null,
   "id": "violent-basket",
   "metadata": {
    "colab": {
     "base_uri": "https://localhost:8080/"
    },
    "executionInfo": {
     "elapsed": 675,
     "status": "ok",
     "timestamp": 1619434294114,
     "user": {
      "displayName": "樫原篤史",
      "photoUrl": "",
      "userId": "05731417106732438151"
     },
     "user_tz": -540
    },
    "id": "violent-basket",
    "outputId": "bf7bf57e-0e36-4e46-d027-501a68417d12",
    "scrolled": true
   },
   "outputs": [],
   "source": [
    "### 解答\n",
    "def remove_markup(text):\n",
    "  # 強調マークアップの除去\n",
    "    pattern = r\"'{2,5}\"\n",
    "    text = re.sub(pattern, \"\", text)\n",
    "\n",
    "    return text\n",
    "\n",
    "result_rm = {k: remove_markup(v) for k, v in result.items()}\n",
    "for k, v in result_rm.items():\n",
    "    print(f\"{k}: {v}\")"
   ]
  },
  {
   "cell_type": "markdown",
   "id": "outer-minnesota",
   "metadata": {
    "id": "outer-minnesota"
   },
   "source": [
    "## 27. 内部リンクの除去\n",
    "\n",
    "> 26の処理に加えて，テンプレートの値からMediaWikiの内部リンクマークアップを除去し，テキストに変換せよ（参考: マークアップ早見表）．"
   ]
  },
  {
   "cell_type": "code",
   "execution_count": null,
   "id": "musical-istanbul",
   "metadata": {
    "colab": {
     "base_uri": "https://localhost:8080/"
    },
    "executionInfo": {
     "elapsed": 624,
     "status": "ok",
     "timestamp": 1619434300809,
     "user": {
      "displayName": "樫原篤史",
      "photoUrl": "",
      "userId": "05731417106732438151"
     },
     "user_tz": -540
    },
    "id": "musical-istanbul",
    "outputId": "84a89c5a-17d6-4be8-cd97-a69a225f5f2b",
    "scrolled": true
   },
   "outputs": [],
   "source": [
    "### 解答\n",
    "def remove_markup(text):\n",
    "    # 強調マークアップの除去\n",
    "    pattern = r\"\\\"{2,5}\"\n",
    "    text = re.sub(pattern, \"\", text)\n",
    "    pattern = r\"\\[\\[(?:[^|]*?\\|)??([^|]*?)\\]\\]\"\n",
    "    text = re.sub(pattern, r\"\\1\", text)\n",
    "\n",
    "    return text\n",
    "\n",
    "result_rm = {k: remove_markup(v) for k, v in result.items()}\n",
    "for k, v in result_rm.items():\n",
    "    print(f\"{k}: {v}\")"
   ]
  },
  {
   "cell_type": "markdown",
   "id": "unnecessary-salad",
   "metadata": {
    "id": "unnecessary-salad"
   },
   "source": [
    "## 28. MediaWikiマークアップの除去\n",
    "\n",
    "> 27の処理に加えて，テンプレートの値からMediaWikiマークアップを可能な限り除去し，国の基本情報を整形せよ．"
   ]
  },
  {
   "cell_type": "code",
   "execution_count": null,
   "id": "allied-sperm",
   "metadata": {
    "colab": {
     "base_uri": "https://localhost:8080/"
    },
    "executionInfo": {
     "elapsed": 872,
     "status": "ok",
     "timestamp": 1619434307784,
     "user": {
      "displayName": "樫原篤史",
      "photoUrl": "",
      "userId": "05731417106732438151"
     },
     "user_tz": -540
    },
    "id": "allied-sperm",
    "outputId": "661a2a51-2f73-421e-cc22-5906b45dee64",
    "scrolled": true
   },
   "outputs": [],
   "source": [
    "### 解答\n",
    "def remove_markup(text):\n",
    "    # 強調マークアップの除去\n",
    "    pattern = r\"\\\"{2,5}\"\n",
    "    text = re.sub(pattern, \"\", text)\n",
    "\n",
    "    # 内部リンクマークアップの除去\n",
    "    pattern = r\"\\[\\[(?:[^|]*?\\|)??([^|]*?)\\]\\]\"\n",
    "    text = re.sub(pattern, r\"\\1\", text)\n",
    "\n",
    "    # 外部リンクマークアップの除去\n",
    "    # これはおそらくURLの正規表現の一般系? -> 参考URL：https://qiita.com/str32/items/a692073af32757618042\n",
    "    pattern = r\"https?://[\\w!?/\\+\\-_~=;\\.,*&@#$%\\(\\)\\'\\[\\]]+\"\n",
    "    text = re.sub(pattern, \"\", text)\n",
    "\n",
    "    # htmlタグの除去\n",
    "    pattern = r\"<.+?>\" \n",
    "    text = re.sub(pattern, \"\", text)\n",
    "\n",
    "    # テンプレートの除去\n",
    "    pattern = r\"\\{\\{(?:lang|仮リンク)(?:[^|]*?\\|)*?([^|]*?)\\}\\}\" \n",
    "    text = re.sub(pattern, r\"\\1\", text)\n",
    "\n",
    "    return text\n",
    "\n",
    "result_rm = {k: remove_markup(v) for k, v in result.items()}\n",
    "for k, v in result_rm.items():\n",
    "    print(f\"{k}: {v}\")"
   ]
  },
  {
   "cell_type": "markdown",
   "id": "molecular-protection",
   "metadata": {
    "id": "molecular-protection"
   },
   "source": [
    "# 29. 国旗画像のURLを取得する"
   ]
  },
  {
   "cell_type": "markdown",
   "id": "prerequisite-header",
   "metadata": {
    "id": "prerequisite-header"
   },
   "source": [
    "## テンプレートの内容を利用し，国旗画像のURLを取得せよ．（ヒント: MediaWiki APIのimageinfoを呼び出して，ファイル参照をURLに変換すればよい）"
   ]
  },
  {
   "cell_type": "code",
   "execution_count": null,
   "id": "impossible-centre",
   "metadata": {
    "colab": {
     "base_uri": "https://localhost:8080/"
    },
    "executionInfo": {
     "elapsed": 1219,
     "status": "ok",
     "timestamp": 1619434345962,
     "user": {
      "displayName": "樫原篤史",
      "photoUrl": "",
      "userId": "05731417106732438151"
     },
     "user_tz": -540
    },
    "id": "impossible-centre",
    "outputId": "e215789d-b035-4b96-ceb3-7aa8615d4080"
   },
   "outputs": [],
   "source": [
    "### 解答\n",
    "\n",
    "\n",
    "def get_url(text):\n",
    "    url_file = text[\"国旗画像\"].replace(\" \", \"_\")\n",
    "    url = \"https://commons.wikimedia.org/w/api.php?action=query&titles=File:\" + url_file + \"&prop=imageinfo&iiprop=url&format=json\"\n",
    "    data = requests.get(url)\n",
    "    return re.search(r'\"url\":\"(.+?)\"', data.text).group(1)\n",
    "\n",
    "print(get_url(result))"
   ]
  }
 ],
 "metadata": {
  "colab": {
   "collapsed_sections": [
    "lyric-interim",
    "intellectual-rainbow",
    "weird-volleyball",
    "mineral-orchestra"
   ],
   "name": "100本ノック第3章_正規表現.ipynb",
   "provenance": [],
   "toc_visible": true
  },
  "kernelspec": {
   "display_name": "Python 3",
   "language": "python",
   "name": "python3"
  },
  "language_info": {
   "codemirror_mode": {
    "name": "ipython",
    "version": 3
   },
   "file_extension": ".py",
   "mimetype": "text/x-python",
   "name": "python",
   "nbconvert_exporter": "python",
   "pygments_lexer": "ipython3",
   "version": "3.9.5"
  }
 },
 "nbformat": 4,
 "nbformat_minor": 5
}
